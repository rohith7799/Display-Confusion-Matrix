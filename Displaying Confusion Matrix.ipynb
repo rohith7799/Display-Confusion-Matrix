{
 "cells": [
  {
   "cell_type": "code",
   "execution_count": 2,
   "id": "cce6f510",
   "metadata": {},
   "outputs": [],
   "source": [
    "import pandas as pd                  # pandas lib is used for tabular data preprocessing and cleaning\n",
    "import seaborn as sns                # seaborn lib is used for drawing visualizations for the data\n",
    "from matplotlib import pyplot as plt # matplotlib lib is used for drawing visualizations for the data\n",
    "import warnings                      # filterwarnings is used for filtering and supressing any warnings during the data cleaning\n",
    "warnings.filterwarnings('ignore')    # process"
   ]
  },
  {
   "cell_type": "code",
   "execution_count": 8,
   "id": "228d16e9",
   "metadata": {},
   "outputs": [
    {
     "data": {
      "text/html": [
       "<div>\n",
       "<style scoped>\n",
       "    .dataframe tbody tr th:only-of-type {\n",
       "        vertical-align: middle;\n",
       "    }\n",
       "\n",
       "    .dataframe tbody tr th {\n",
       "        vertical-align: top;\n",
       "    }\n",
       "\n",
       "    .dataframe thead th {\n",
       "        text-align: right;\n",
       "    }\n",
       "</style>\n",
       "<table border=\"1\" class=\"dataframe\">\n",
       "  <thead>\n",
       "    <tr style=\"text-align: right;\">\n",
       "      <th></th>\n",
       "      <th>Unnamed: 0</th>\n",
       "      <th>country</th>\n",
       "      <th>price_type</th>\n",
       "      <th>market</th>\n",
       "      <th>commodity</th>\n",
       "      <th>percent</th>\n",
       "      <th>post_covid</th>\n",
       "      <th>yearly</th>\n",
       "    </tr>\n",
       "  </thead>\n",
       "  <tbody>\n",
       "    <tr>\n",
       "      <th>0</th>\n",
       "      <td>0</td>\n",
       "      <td>Cote d'Ivoire</td>\n",
       "      <td>Retail</td>\n",
       "      <td>Abidjan</td>\n",
       "      <td>AttiÃ©kÃ©</td>\n",
       "      <td>NaN</td>\n",
       "      <td>-0.061538</td>\n",
       "      <td>-0.031746</td>\n",
       "    </tr>\n",
       "    <tr>\n",
       "      <th>1</th>\n",
       "      <td>1</td>\n",
       "      <td>Cameroon</td>\n",
       "      <td>Retail</td>\n",
       "      <td>YaundÃ©</td>\n",
       "      <td>Bananas (plantains)</td>\n",
       "      <td>NaN</td>\n",
       "      <td>0.000000</td>\n",
       "      <td>0.000000</td>\n",
       "    </tr>\n",
       "    <tr>\n",
       "      <th>2</th>\n",
       "      <td>2</td>\n",
       "      <td>Cameroon</td>\n",
       "      <td>Retail</td>\n",
       "      <td>Bafoussam</td>\n",
       "      <td>Bananas (plantains)</td>\n",
       "      <td>NaN</td>\n",
       "      <td>-0.305556</td>\n",
       "      <td>0.041667</td>\n",
       "    </tr>\n",
       "    <tr>\n",
       "      <th>3</th>\n",
       "      <td>3</td>\n",
       "      <td>Morocco</td>\n",
       "      <td>Retail</td>\n",
       "      <td>National Average</td>\n",
       "      <td>Barley (imported)</td>\n",
       "      <td>NaN</td>\n",
       "      <td>-0.034483</td>\n",
       "      <td>-0.034483</td>\n",
       "    </tr>\n",
       "    <tr>\n",
       "      <th>4</th>\n",
       "      <td>4</td>\n",
       "      <td>Cote d'Ivoire</td>\n",
       "      <td>Retail</td>\n",
       "      <td>Abidjan</td>\n",
       "      <td>Banana (plantains)</td>\n",
       "      <td>NaN</td>\n",
       "      <td>0.769231</td>\n",
       "      <td>0.232143</td>\n",
       "    </tr>\n",
       "    <tr>\n",
       "      <th>...</th>\n",
       "      <td>...</td>\n",
       "      <td>...</td>\n",
       "      <td>...</td>\n",
       "      <td>...</td>\n",
       "      <td>...</td>\n",
       "      <td>...</td>\n",
       "      <td>...</td>\n",
       "      <td>...</td>\n",
       "    </tr>\n",
       "    <tr>\n",
       "      <th>1139</th>\n",
       "      <td>1139</td>\n",
       "      <td>Benin</td>\n",
       "      <td>Retail</td>\n",
       "      <td>Parakou</td>\n",
       "      <td>Yam</td>\n",
       "      <td>NaN</td>\n",
       "      <td>0.057143</td>\n",
       "      <td>0.027778</td>\n",
       "    </tr>\n",
       "    <tr>\n",
       "      <th>1140</th>\n",
       "      <td>1140</td>\n",
       "      <td>Benin</td>\n",
       "      <td>Retail</td>\n",
       "      <td>Natitingou</td>\n",
       "      <td>Yam</td>\n",
       "      <td>NaN</td>\n",
       "      <td>0.088235</td>\n",
       "      <td>0.057143</td>\n",
       "    </tr>\n",
       "    <tr>\n",
       "      <th>1141</th>\n",
       "      <td>1141</td>\n",
       "      <td>Benin</td>\n",
       "      <td>Retail</td>\n",
       "      <td>Cotonou</td>\n",
       "      <td>Yam</td>\n",
       "      <td>NaN</td>\n",
       "      <td>0.057692</td>\n",
       "      <td>0.100000</td>\n",
       "    </tr>\n",
       "    <tr>\n",
       "      <th>1142</th>\n",
       "      <td>1142</td>\n",
       "      <td>Ghana</td>\n",
       "      <td>Wholesale</td>\n",
       "      <td>Tamale</td>\n",
       "      <td>Yam</td>\n",
       "      <td>NaN</td>\n",
       "      <td>-0.090909</td>\n",
       "      <td>0.000000</td>\n",
       "    </tr>\n",
       "    <tr>\n",
       "      <th>1143</th>\n",
       "      <td>1143</td>\n",
       "      <td>Ghana</td>\n",
       "      <td>Wholesale</td>\n",
       "      <td>Techiman</td>\n",
       "      <td>Yam</td>\n",
       "      <td>NaN</td>\n",
       "      <td>0.700000</td>\n",
       "      <td>-0.128205</td>\n",
       "    </tr>\n",
       "  </tbody>\n",
       "</table>\n",
       "<p>1144 rows × 8 columns</p>\n",
       "</div>"
      ],
      "text/plain": [
       "      Unnamed: 0        country price_type            market  \\\n",
       "0              0  Cote d'Ivoire     Retail           Abidjan   \n",
       "1              1       Cameroon     Retail           YaundÃ©   \n",
       "2              2       Cameroon     Retail         Bafoussam   \n",
       "3              3        Morocco     Retail  National Average   \n",
       "4              4  Cote d'Ivoire     Retail           Abidjan   \n",
       "...          ...            ...        ...               ...   \n",
       "1139        1139          Benin     Retail           Parakou   \n",
       "1140        1140          Benin     Retail        Natitingou   \n",
       "1141        1141          Benin     Retail           Cotonou   \n",
       "1142        1142          Ghana  Wholesale            Tamale   \n",
       "1143        1143          Ghana  Wholesale          Techiman   \n",
       "\n",
       "                commodity  percent  post_covid    yearly  \n",
       "0               AttiÃ©kÃ©      NaN   -0.061538 -0.031746  \n",
       "1     Bananas (plantains)      NaN    0.000000  0.000000  \n",
       "2     Bananas (plantains)      NaN   -0.305556  0.041667  \n",
       "3       Barley (imported)      NaN   -0.034483 -0.034483  \n",
       "4      Banana (plantains)      NaN    0.769231  0.232143  \n",
       "...                   ...      ...         ...       ...  \n",
       "1139                  Yam      NaN    0.057143  0.027778  \n",
       "1140                  Yam      NaN    0.088235  0.057143  \n",
       "1141                  Yam      NaN    0.057692  0.100000  \n",
       "1142                  Yam      NaN   -0.090909  0.000000  \n",
       "1143                  Yam      NaN    0.700000 -0.128205  \n",
       "\n",
       "[1144 rows x 8 columns]"
      ]
     },
     "execution_count": 8,
     "metadata": {},
     "output_type": "execute_result"
    }
   ],
   "source": [
    "dataframe = pd.read_csv('C:/Users/HP\\Desktop/Krishna Domestic food/Domestic Food Prices.csv') # pd.read_csv is used for\n",
    "                                        # reading the tabular data into python pandas\n",
    "dataframe # viewing the data frame"
   ]
  },
  {
   "cell_type": "code",
   "execution_count": 9,
   "id": "38cd6814",
   "metadata": {},
   "outputs": [],
   "source": [
    "# re.split('[^a-zA-Z]*', x will extractand split only alphabets and they are joined\n",
    "import re\n",
    "dataframe['market'] = dataframe['market'].apply(lambda x: \"\".join(re.split('[^a-zA-Z]*', x)))\n",
    "# The given code snippet cleans up the 'market' column in a pandas DataFrame df \n",
    "# by removing any non-alphabetic characters from the values."
   ]
  },
  {
   "cell_type": "code",
   "execution_count": 10,
   "id": "1f468db2",
   "metadata": {},
   "outputs": [],
   "source": [
    "# This code removes the column labeled 'Unnamed: 0' from the DataFrame dataframe. \n",
    "dataframe.drop('Unnamed: 0', axis = 1,inplace = True)"
   ]
  },
  {
   "cell_type": "code",
   "execution_count": 11,
   "id": "3bec06d8",
   "metadata": {},
   "outputs": [],
   "source": [
    "# This code removes the column labeled 'percent' from the DataFrame dataframe. \n",
    "dataframe.drop('percent', axis = 1, inplace = True) # drop function is used to delete a particular column in the dataframe"
   ]
  },
  {
   "cell_type": "code",
   "execution_count": 12,
   "id": "4c8496c6",
   "metadata": {},
   "outputs": [],
   "source": [
    "# This code calculates the difference between the values in the 'post_covid' column and \n",
    "# the 'yearly' column of the DataFrame dataframe, and stores the result in a new column called 'differ'.\n",
    "dataframe['differ'] = dataframe['post_covid'] - dataframe['yearly'] # creating a new feature that contains the difference values"
   ]
  },
  {
   "cell_type": "code",
   "execution_count": 13,
   "id": "6debc565",
   "metadata": {},
   "outputs": [],
   "source": [
    "# This code snippet uses scikit-learn's LabelEncoder to encode categorical \n",
    "# columns in the DataFrame df ('country', 'market', 'commodity', 'price_type') into numerical values. \n",
    "from sklearn.preprocessing import LabelEncoder # label encoding to encode the categorical column\n",
    "enc = LabelEncoder()\n",
    "dataframe['country'] = enc.fit_transform(dataframe['country'])\n",
    "dataframe['market'] = enc.fit_transform(dataframe['market'])\n",
    "dataframe['commodity'] = enc.fit_transform(dataframe['commodity'])\n",
    "dataframe['price_type'] = enc.fit_transform(dataframe['price_type'])\n",
    "#df[''] = enc.fit_transform(df[''])"
   ]
  },
  {
   "cell_type": "code",
   "execution_count": 14,
   "id": "b93cbd89",
   "metadata": {},
   "outputs": [
    {
     "name": "stdout",
     "output_type": "stream",
     "text": [
      "the shape of the data is (1144, 7)\n",
      "the shape of inputs is (1144, 6)\n",
      "the shape of outputs is (1144,)\n"
     ]
    }
   ],
   "source": [
    "# The code separates a DataFrame into input features (excluding 'price_type') and output target ('price_type'), \n",
    "# then prints the shapes of the original data, inputs, and outputs.\n",
    "inputs = dataframe.drop('price_type', axis = 1) # defining inputs and outputs to model\n",
    "outputs = dataframe['price_type']\n",
    "print('the shape of the data is', dataframe.shape)\n",
    "print('the shape of inputs is', inputs.shape)\n",
    "print('the shape of outputs is', outputs.shape)"
   ]
  },
  {
   "cell_type": "code",
   "execution_count": 15,
   "id": "b16c55f5",
   "metadata": {},
   "outputs": [
    {
     "name": "stdout",
     "output_type": "stream",
     "text": [
      "The shape of X_train (800, 6)\n",
      "The shape of X_test (344, 6)\n",
      "The shape of y_train (800,)\n",
      "The shape of y_test (344,)\n"
     ]
    }
   ],
   "source": [
    "# The code splits input features (inputs) and target variable (outputs) into \n",
    "# training and test sets (X_train, X_test, y_train, y_test), then prints the shapes of the training and test sets\n",
    "from sklearn.model_selection import train_test_split # dividing the data set into trainig and test sets\n",
    "X_train, X_test, y_train, y_test = train_test_split(inputs, outputs, test_size=0.30, random_state=1)\n",
    "\n",
    "# checking the shape of training and test data set\n",
    "print('The shape of X_train', X_train.shape)\n",
    "print('The shape of X_test' , X_test.shape)\n",
    "print('The shape of y_train', y_train.shape)\n",
    "print('The shape of y_test' , y_test.shape)"
   ]
  },
  {
   "cell_type": "code",
   "execution_count": 17,
   "id": "5dace0c3",
   "metadata": {},
   "outputs": [
    {
     "name": "stdout",
     "output_type": "stream",
     "text": [
      "classification report for logistic regression \n",
      "               precision    recall  f1-score   support\n",
      "\n",
      "           0       0.71      0.97      0.82       246\n",
      "           1       0.20      0.02      0.04        98\n",
      "\n",
      "    accuracy                           0.70       344\n",
      "   macro avg       0.46      0.49      0.43       344\n",
      "weighted avg       0.57      0.70      0.60       344\n",
      "\n"
     ]
    }
   ],
   "source": [
    "# The code performs logistic regression using scikit-learn. It creates a LogisticRegression model, \n",
    "# trains it on the training data, predicts on the test data, and generates a classification report \n",
    "# for evaluating the model's performance.\n",
    "from sklearn.linear_model import LogisticRegression ## Logistic Regression\n",
    "log_reg_clf = LogisticRegression()\n",
    "log_reg_clf.fit(X_train, y_train)                         # training the model\n",
    "# Prediction using Logistic regression\n",
    "y_pred_log_reg = log_reg_clf.predict(X_test)            # predicting \n",
    "# score\n",
    "from sklearn.metrics import classification_report         # classification report\n",
    "clf_rpt_log_reg = classification_report(y_test, y_pred_log_reg)\n",
    "print('classification report for logistic regression \\n',clf_rpt_log_reg )\n"
   ]
  },
  {
   "cell_type": "code",
   "execution_count": 18,
   "id": "8319dee3",
   "metadata": {},
   "outputs": [
    {
     "data": {
      "image/png": "[encoded data removed]",
      "text/plain": [
       "<Figure size 432x288 with 2 Axes>"
      ]
     },
     "metadata": {
      "needs_background": "light"
     },
     "output_type": "display_data"
    }
   ],
   "source": [
    "from sklearn.metrics import confusion_matrix, ConfusionMatrixDisplay\n",
    "conf = confusion_matrix(y_pred_log_reg, y_test, labels = log_reg_clf.classes_)\n",
    "disp = ConfusionMatrixDisplay(confusion_matrix=conf, display_labels=log_reg_clf.classes_)\n",
    "disp.plot()\n",
    "plt.title('confusion matrix of Logistic Regression')\n",
    "plt.show()"
   ]
  },
  {
   "cell_type": "code",
   "execution_count": null,
   "id": "752f5767",
   "metadata": {},
   "outputs": [],
   "source": []
  },
  {
   "cell_type": "markdown",
   "id": "d358ee90",
   "metadata": {},
   "source": [
    "### Decision boundary\n",
    "* 'https://hackernoon.com/how-to-plot-a-decision-boundary-for-machine-learning-algorithms-in-python-3o1n3w07'\n",
    "* 'https://scikit-learn.org/stable/modules/generated/sklearn.inspection.DecisionBoundaryDisplay.html'"
   ]
  },
  {
   "cell_type": "code",
   "execution_count": null,
   "id": "f57a96b4",
   "metadata": {},
   "outputs": [],
   "source": [
    "# decision surface for logistic regression on a binary classification dataset\n",
    "import numpy as np\n",
    "from sklearn.datasets import make_blobs\n",
    "from sklearn.linear_model import LogisticRegression"
   ]
  },
  {
   "cell_type": "code",
   "execution_count": null,
   "id": "1329b5fa",
   "metadata": {},
   "outputs": [],
   "source": [
    "# generate dataset\n",
    "X, y = make_blobs(n_samples=1000, centers=2, n_features=2, random_state=1, cluster_std=3)\n",
    "# X is independent variable with 2 columns and 1000 rows\n",
    "# y is dependent variable with 1000 rows"
   ]
  },
  {
   "cell_type": "code",
   "execution_count": null,
   "id": "fe6a3c86",
   "metadata": {},
   "outputs": [],
   "source": [
    "# define bounds of the domain\n",
    "min1, max1 = X[:, 0].min()-1, X[:, 0].max()+1  # min value in 1st column and max value in first column\n",
    "min2, max2 = X[:, 1].min()-1, X[:, 1].max()+1  # min value in 2nd column and max value in second columns"
   ]
  },
  {
   "cell_type": "code",
   "execution_count": null,
   "id": "66d4ad07",
   "metadata": {},
   "outputs": [],
   "source": [
    "# define the x and y scale\n",
    "x1grid = np.arange(min1, max1, 0.1)\n",
    "x2grid = np.arange(min2, max2, 0.1)"
   ]
  },
  {
   "cell_type": "code",
   "execution_count": null,
   "id": "33d9147b",
   "metadata": {},
   "outputs": [],
   "source": [
    "# create all of the lines and rows of the grid\n",
    "xx, yy = np.meshgrid(x1grid, x2grid)"
   ]
  },
  {
   "cell_type": "code",
   "execution_count": null,
   "id": "3723c027",
   "metadata": {},
   "outputs": [],
   "source": [
    "# flatten each grid to a vector\n",
    "r1, r2 = xx.flatten(), yy.flatten()\n",
    "r1, r2 = r1.reshape((len(r1), 1)), r2.reshape((len(r2), 1))"
   ]
  },
  {
   "cell_type": "code",
   "execution_count": null,
   "id": "fe2b147c",
   "metadata": {},
   "outputs": [],
   "source": [
    "# horizontal stack vectors to create x1,x2 input for the model\n",
    "grid = np.hstack((r1,r2))"
   ]
  },
  {
   "cell_type": "code",
   "execution_count": null,
   "id": "73bb25b4",
   "metadata": {},
   "outputs": [],
   "source": [
    "# define the model\n",
    "model = LogisticRegression()\n",
    "# fit the model\n",
    "model.fit(X, y)\n",
    "# make predictions for the grid\n",
    "yhat = model.predict(grid)"
   ]
  },
  {
   "cell_type": "code",
   "execution_count": null,
   "id": "9b68b74a",
   "metadata": {},
   "outputs": [],
   "source": [
    "# reshape the predictions back into a grid\n",
    "zz = yhat.reshape(xx.shape)"
   ]
  },
  {
   "cell_type": "code",
   "execution_count": 19,
   "id": "10b59a9c",
   "metadata": {},
   "outputs": [
    {
     "data": {
      "image/png": "[encoded data removed]",
      "text/plain": [
       "<Figure size 432x288 with 1 Axes>"
      ]
     },
     "metadata": {
      "needs_background": "light"
     },
     "output_type": "display_data"
    }
   ],
   "source": [
    "# plot the grid of x, y and z values as a surface\n",
    "plt.contourf(xx, yy, zz, cmap='Paired')\n",
    "# create scatter plot for samples from each class\n",
    "for class_value in range(2):\n",
    "    # get row indexes for samples with this class\n",
    "    row_ix = np.where(y == class_value)\n",
    "    # create scatter of these samples\n",
    "    plt.scatter(X[row_ix, 0], X[row_ix, 1], cmap='Paired')"
   ]
  },
  {
   "cell_type": "code",
   "execution_count": null,
   "id": "d944e43c",
   "metadata": {},
   "outputs": [],
   "source": []
  }
 ],
 "metadata": {
  "kernelspec": {
   "display_name": "Python 3 (ipykernel)",
   "language": "python",
   "name": "python3"
  },
  "language_info": {
   "codemirror_mode": {
    "name": "ipython",
    "version": 3
   },
   "file_extension": ".py",
   "mimetype": "text/x-python",
   "name": "python",
   "nbconvert_exporter": "python",
   "pygments_lexer": "ipython3",
   "version": "3.9.7"
  }
 },
 "nbformat": 4,
 "nbformat_minor": 5
}
